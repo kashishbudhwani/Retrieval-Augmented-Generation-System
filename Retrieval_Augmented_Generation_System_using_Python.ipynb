{
  "cells": [
    {
      "cell_type": "markdown",
      "metadata": {
        "id": "view-in-github",
        "colab_type": "text"
      },
      "source": [
        "<a href=\"https://colab.research.google.com/github/kashishbudhwani/Retrieval-Augmented-Generation-System/blob/main/Retrieval_Augmented_Generation_System_using_Python.ipynb\" target=\"_parent\"><img src=\"https://colab.research.google.com/assets/colab-badge.svg\" alt=\"Open In Colab\"/></a>"
      ]
    },
    {
      "cell_type": "markdown",
      "source": [
        "# RAG SYSTEM"
      ],
      "metadata": {
        "id": "nzYLi1LTHOhp"
      }
    },
    {
      "cell_type": "code",
      "source": [
        "import os\n",
        "from langchain.text_splitter import RecursiveCharacterTextSplitter\n",
        "\n",
        "# Create a dummy file if it doesn't exist\n",
        "file_path = \"/content/my_knowledge.txt.txt\"\n",
        "if not os.path.exists(file_path):\n",
        "    with open(file_path, \"w\") as f:\n",
        "        f.write(\"\"\"\n",
        "This document contains information about the company's policies and benefits.\n",
        "\n",
        "Work from Home (WFH) Policy:\n",
        "Employees are allowed to work from home up to two days per week, with manager approval.\n",
        "Requests for additional WFH days will be considered on a case-by-case basis.\n",
        "\n",
        "Health Insurance:\n",
        "The company provides a comprehensive health insurance plan for all full-time employees.\n",
        "Details about coverage, deductibles, and co-pays are available on the company intranet.\n",
        "\n",
        "Dental Plan:\n",
        "The company offers an optional dental plan. Enrollment is available during the annual open enrollment period.\n",
        "\n",
        "Paid Time Off (PTO):\n",
        "Employees accrue PTO based on their years of service.\n",
        "New employees start with 10 days of PTO per year.\n",
        "\"\"\")\n",
        "\n",
        "# Load our document\n",
        "with open(file_path) as f:\n",
        "    knowledge_text = f.read()\n",
        "\n",
        "# 1. Initialize the Text Splitter\n",
        "# This splitter is smart. It tries to split on paragraphs (\"\\n\\n\"),\n",
        "# then newlines (\"\\n\"), then spaces (\" \"), to keep semantically\n",
        "# related text together as much as possible.\n",
        "text_splitter = RecursiveCharacterTextSplitter(\n",
        "    chunk_size=150,  # Max size of a chunk\n",
        "    chunk_overlap=20, # Overlap to maintain context between chunks\n",
        "    length_function=len\n",
        ")\n",
        "\n",
        "# 2. Create the chunks\n",
        "chunks = text_splitter.split_text(knowledge_text)\n",
        "\n",
        "print(f\"We have {len(chunks)} chunks:\")\n",
        "for i, chunk in enumerate(chunks):\n",
        "    print(f\"--- Chunk {i+1} ---\\n{chunk}\\n\")"
      ],
      "metadata": {
        "id": "oGd_zAtzI5s3"
      },
      "execution_count": null,
      "outputs": []
    },
    {
      "cell_type": "code",
      "source": [
        "!pip install transformers sentence-transformers faiss-cpu langchain\n"
      ],
      "metadata": {
        "id": "WZCjFvw6HQLR"
      },
      "execution_count": null,
      "outputs": []
    },
    {
      "cell_type": "code",
      "source": [
        "from sentence_transformers import SentenceTransformer\n",
        "\n",
        "# 1. Load the embedding model\n",
        "# 'all-MiniLM-L6-v2' is a fantastic, fast, and small model.\n",
        "# It runs 100% on your local machine.\n",
        "model = SentenceTransformer('all-MiniLM-L6-v2')\n",
        "\n",
        "# 2. Embed all our chunks\n",
        "# This will take a moment as it \"reads\" and \"understands\" each chunk.\n",
        "chunk_embeddings = model.encode(chunks)\n",
        "\n",
        "print(f\"Shape of our embeddings: {chunk_embeddings.shape}\")"
      ],
      "metadata": {
        "id": "qIQ9shQCM3pW"
      },
      "execution_count": null,
      "outputs": []
    },
    {
      "cell_type": "code",
      "source": [
        "import faiss\n",
        "import numpy as np\n",
        "\n",
        "# Get the dimension of our vectors (e.g., 384)\n",
        "d = chunk_embeddings.shape[1]\n",
        "\n",
        "# 1. Create a FAISS index\n",
        "# IndexFlatL2 is the simplest, most basic index. It calculates\n",
        "# the exact distance (L2 distance) between our query and all vectors.\n",
        "index = faiss.IndexFlatL2(d)\n",
        "\n",
        "# 2. Add our chunk embeddings to the index\n",
        "# We must convert to float32 for FAISS\n",
        "index.add(np.array(chunk_embeddings).astype('float32'))\n",
        "\n",
        "print(f\"FAISS index created with {index.ntotal} vectors.\")"
      ],
      "metadata": {
        "id": "OhWdvoMbPN3L"
      },
      "execution_count": null,
      "outputs": []
    },
    {
      "cell_type": "code",
      "source": [
        "from transformers import pipeline\n",
        "\n",
        "# 1. Load a \"Question-Answering\" or \"Text-Generation\" model\n",
        "# We'll use a small, instruction-tuned model from Google.\n",
        "generator = pipeline('text2text-generation', model='google/flan-t5-small')\n",
        "\n",
        "# --- This is our RAG pipeline function ---\n",
        "def answer_question(query):\n",
        "    # 1. RETRIEVE\n",
        "    # Embed the user's query\n",
        "    query_embedding = model.encode([query]).astype('float32')\n",
        "\n",
        "    # Search the FAISS index for the top k (e.g., k=2) most similar chunks\n",
        "    k = 2\n",
        "    distances, indices = index.search(query_embedding, k)\n",
        "\n",
        "    # Get the actual text chunks from our original 'chunks' list\n",
        "    retrieved_chunks = [chunks[i] for i in indices[0]]\n",
        "    context = \"\\n\\n\".join(retrieved_chunks)\n",
        "\n",
        "    # 2. AUGMENT\n",
        "    # This is the \"magic prompt.\" We combine the retrieved context\n",
        "    # with the user's query.\n",
        "    prompt_template = f\"\"\"\n",
        "    Answer the following question using *only* the provided context.\n",
        "    If the answer is not in the context, say \"I don't have that information.\"\n",
        "\n",
        "    Context:\n",
        "    {context}\n",
        "\n",
        "    Question:\n",
        "    {query}\n",
        "\n",
        "    Answer:\n",
        "    \"\"\"\n",
        "\n",
        "    # 3. GENERATE\n",
        "    # Feed the augmented prompt to our generative model\n",
        "    answer = generator(prompt_template, max_length=100)\n",
        "    print(f\"--- CONTEXT ---\\n{context}\\n\")\n",
        "    return answer[0]['generated_text']"
      ],
      "metadata": {
        "id": "KCMqLxqaPdVE"
      },
      "execution_count": null,
      "outputs": []
    },
    {
      "cell_type": "code",
      "source": [
        "query_1 = \"What is the WFH policy?\"\n",
        "print(f\"Query: {query_1}\")\n",
        "print(f\"Answer: {answer_question(query_1)}\\n\")"
      ],
      "metadata": {
        "id": "bzh_fSGSP4Mr"
      },
      "execution_count": null,
      "outputs": []
    },
    {
      "cell_type": "code",
      "source": [
        "query_2 = \"What is the company's dental plan?\"\n",
        "print(f\"Query: {query_2}\")\n",
        "print(f\"Answer: {answer_question(query_2)}\\n\")"
      ],
      "metadata": {
        "id": "eOLbMtY4QAoP"
      },
      "execution_count": null,
      "outputs": []
    },
    {
      "cell_type": "markdown",
      "source": [
        "Because of our prompt (“only use the provided context”), the LLM didn’t hallucinate"
      ],
      "metadata": {
        "id": "tYUi8AVuQFEu"
      }
    },
    {
      "cell_type": "markdown",
      "source": [
        "### Solved the three biggest problems with LLMs:\n",
        "Hallucinations: You grounded the model in reality.\n",
        "\n",
        "Stale Knowledge: You can update the knowledge!\n",
        "\n",
        "Data Privacy: No data ever left your computer. The embedding model and the LLM all ran locally.\n",
        "\n"
      ],
      "metadata": {
        "id": "S6kKqBkmQMhC"
      }
    }
  ],
  "metadata": {
    "colab": {
      "toc_visible": true,
      "provenance": [],
      "include_colab_link": true
    },
    "kernelspec": {
      "display_name": "Python 3",
      "name": "python3"
    }
  },
  "nbformat": 4,
  "nbformat_minor": 0
}